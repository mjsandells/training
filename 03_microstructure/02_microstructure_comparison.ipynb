{
 "cells": [
  {
   "cell_type": "markdown",
   "metadata": {},
   "source": [
    "Comparison of microstructure model\n",
    "======================\n",
    "\n",
    "__Goal__:\n",
    " Highlight that very different microstructure may give similar results.\n",
    "\n",
    "\n",
    "__The long story__:\n",
    "\n",
    "\"Grain size\" is a major issue when running microwave models. Different authors have addressed this in different way:\n",
    "\n",
    "- Tsang's group tends to use DMRT with fixed stickiness around 0.1, 0.15 or 0.2 and a grain size from measurements (usually traditional grain size measured with hand-lens)\n",
    "\n",
    "- Grenoble+Sherboorke group tends use DMRT with no stickiness but with grain size derived from SSA that is using the classical relationship a_opt = 3/SSA/rho_ice, and _scaled by a factor phi_.  It means a_dmrt = phi * 3/SSA/rho_ice. The Dome C dataset provided in this training includign scaled grain size with phi=2.3\n",
    "\n",
    "- Matzler uses Exponential function and, when microstructure images are not available, tends to recommend to use scaled Debye relation, ie.  corr_length = X * 3/4 a_opt (1-f) where f is the fractional volume. X found to be 0.75.\n",
    "    \n",
    "In all cases, there is one \"free\" parameter (stickiness, scaling phi or scaling X) that is not determined from measurements, but is optimized. This parameter is assumed constant for all snowpits, frequencies, ... to avoid over-fitting\n",
    "\n",
    "__Specific goal___:\n",
    "\n",
    "In this excerice, we'll show that different microstructure gives similar results:\n",
    "- create a snowpack (as usual) using SHS and stickiness=0.1 or 0.15 or 0.2\n",
    "- compute and plot the output (e.g. the angular diagram)\n",
    "- create another snowpack using stickiness=1000 (=not sticky) and adjust by hand the radius until you get the same results as before. This radius should be 2-3 times larger than the one before, the precise value depends on the stickiness chosen in the first case.\n",
    "- repeat the same using exponential micro-structure and using scaled debye relationship."
   ]
  },
  {
   "cell_type": "code",
   "execution_count": 2,
   "metadata": {},
   "outputs": [],
   "source": [
    "import numpy as np\n",
    "\n",
    "import matplotlib.pyplot as plt\n",
    "%matplotlib notebook\n",
    "\n",
    "from smrt import make_model, make_snowpack, sensor_list"
   ]
  },
  {
   "cell_type": "code",
   "execution_count": 3,
   "metadata": {},
   "outputs": [],
   "source": [
    "# prepare the snowpack\n",
    "\n",
    "thickness = [10]\n",
    "density = 350\n",
    "temperature = 270\n",
    "radius = 100e-6\n",
    "stickiness = 0.1\n",
    "\n",
    "snowpack = make_snowpack(thickness=thickness, microstructure_model='sticky_hard_spheres',\n",
    "                         radius=radius, density=density, stickiness=stickiness, temperature=temperature)"
   ]
  },
  {
   "cell_type": "code",
   "execution_count": null,
   "metadata": {},
   "outputs": [],
   "source": [
    "# run the model and plot the results as done in previous practicals\n"
   ]
  },
  {
   "cell_type": "code",
   "execution_count": null,
   "metadata": {},
   "outputs": [],
   "source": [
    "# a new snowpack with scaled radius\n",
    "phi = 2.5\n",
    "\n",
    "scaled_snowpack = make_snowpack(thickness=thickness, microstructure_model='sticky_hard_spheres',\n",
    "                         radius=phi*radius, density=density, stickiness=stickiness, temperature=temperature)\n",
    "\n",
    "#... continue"
   ]
  }
 ],
 "metadata": {
  "kernelspec": {
   "display_name": "Python 3",
   "language": "python",
   "name": "python3"
  },
  "language_info": {
   "codemirror_mode": {
    "name": "ipython",
    "version": 3
   },
   "file_extension": ".py",
   "mimetype": "text/x-python",
   "name": "python",
   "nbconvert_exporter": "python",
   "pygments_lexer": "ipython3",
   "version": "3.6.3"
  }
 },
 "nbformat": 4,
 "nbformat_minor": 2
}
