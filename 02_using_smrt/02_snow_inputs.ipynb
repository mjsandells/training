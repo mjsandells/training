{
 "cells": [
  {
   "cell_type": "markdown",
   "metadata": {},
   "source": [
    "Snowpack inputs\n",
    "===========\n",
    "\n",
    "__Goal__:\n",
    " - run SMRT with multi-layer snowpack, adjusting various parameters (like wet snow)\n",
    " - using real data to drive SMRT\n",
    "  \n",
    "__Learning__: make_snowpack\n",
    " \n",
    "The following imports are valid for both excercices:"
   ]
  },
  {
   "cell_type": "code",
   "execution_count": 3,
   "metadata": {
    "collapsed": true
   },
   "outputs": [],
   "source": [
    "import numpy as np\n",
    "\n",
    "import matplotlib.pyplot as plt\n",
    "%matplotlib notebook\n",
    "\n",
    "from smrt import make_model, make_snowpack, sensor_list\n",
    "from smrt.utils import dB"
   ]
  },
  {
   "cell_type": "markdown",
   "metadata": {},
   "source": [
    "Multi-layer snowpack\n",
    "-----------------------------------\n",
    "\n",
    "Prepare a snowpack with a few layers. Variable density (e.g. 300, 350, 330, 400 kg m$^{-3}$), variable temperature (e.g. -15°C, 10°C, 5°C, 0°C) same radius (100$\\mu$m) and same stickiness (0.15). Choose layer thcikness (e.g. 10 cm, 30 cm, ...). The last layer must be very thick (we we'll work with soil later).\n",
    "N.B. if one argument is given as a scalar while the thickness is an arratyat least another is given as a list (or array) the scalar value is automatically applied to all layers."
   ]
  },
  {
   "cell_type": "code",
   "execution_count": 1,
   "metadata": {
    "collapsed": true
   },
   "outputs": [],
   "source": [
    "# prepare the multi-layer snowpack"
   ]
  },
  {
   "cell_type": "code",
   "execution_count": null,
   "metadata": {
    "collapsed": true
   },
   "outputs": [],
   "source": [
    "# prepare the sensor. Prepare the model and run it. Print or plot the results"
   ]
  },
  {
   "cell_type": "code",
   "execution_count": 13,
   "metadata": {
    "collapsed": true
   },
   "outputs": [],
   "source": [
    "# Tips: we can draw the snowpack (a recently added function, maybe buggy) as follow:\n",
    "from smrt.utils.mpl_plots import plot_snowpack\n",
    "\n",
    "plt.figure()\n",
    "plot_snowpack(sp, show_vars=['density', 'radius'])"
   ]
  },
  {
   "cell_type": "markdown",
   "metadata": {},
   "source": [
    "Wet snow\n",
    "--------------\n",
    "\n",
    "\n",
    "The `make_snowpack` function can take several optional arguments for non-default behavior. One of them is \"ice_permittivity_model\".\n",
    "Currently, the defaut formulation is that from Mätzler 1987 for dry snow. To model wet snow, it is required to change this default. For this: 1) import the function wetsnow_permittivity defined in the file permittivity/wetsnow.py and 2) make a snowpack similar to the previous one except with a wet first layer. For this you must set both ice_permittivity_model and liquid_water (in volume ratio). Both can be list or scalar (yes, Python does accept list of functions!).\n",
    "\n",
    "\n"
   ]
  },
  {
   "cell_type": "code",
   "execution_count": null,
   "metadata": {
    "collapsed": true
   },
   "outputs": [],
   "source": [
    "# prepare the multi-layer snowpack"
   ]
  },
  {
   "cell_type": "code",
   "execution_count": null,
   "metadata": {
    "collapsed": true
   },
   "outputs": [],
   "source": [
    "# prepare the sensor. Prepare the model and run it. Print or plot the results"
   ]
  },
  {
   "cell_type": "markdown",
   "metadata": {},
   "source": [
    "Read snowpack data\n",
    "------------------------\n",
    "\n",
    "Most of the time, the snowpack is defined in a file or several files. This does not change the way to run SMRT, only reading the data is different. A file called \"data-domec-sp1-picard-2014.dat\" is provided. Data has been acquired in Snowpit 1 at Dome C in 2012/13 (G. Picard, A. Royer, L. Arnaud, M. Fily. Influence of meter-scale wind-formed features on the variability of the microwave brightness temperature around Dome C in Antarctica, The Cryosphere, 8, 1105-1119, 2014, doi:10.5194/tc-8-1105-2014). You can open the file with your favorite editor to see how it looks or (under linux) use the magics of jupyter notebooks: put in a cell \"!cat data-domec-sp1-picard-2014.dat\"."
   ]
  },
  {
   "cell_type": "code",
   "execution_count": 6,
   "metadata": {
    "collapsed": true
   },
   "outputs": [],
   "source": [
    "thickness, density, radius, temperature = np.loadtxt(\"data-domec-sp1-picard-2014.dat\", skiprows=2, unpack=True, delimiter=\" \")\n",
    "# check units in the file and you're ready to go.\n",
    "# But wait! To check variable from within jupyter notebooks, just enter the variable name\n",
    "# at the end of this cell (or another one) and SHIFT+ENTER to see the values."
   ]
  },
  {
   "cell_type": "code",
   "execution_count": null,
   "metadata": {
    "collapsed": true
   },
   "outputs": [],
   "source": [
    "# make snowpack (without stickiness) and so on"
   ]
  },
  {
   "cell_type": "code",
   "execution_count": 8,
   "metadata": {
    "collapsed": true
   },
   "outputs": [],
   "source": [
    "# (depending on time) you can also try to plot the simulate the impact of a +/-10% on density, either on all layers or just the first one."
   ]
  },
  {
   "cell_type": "code",
   "execution_count": null,
   "metadata": {
    "collapsed": true
   },
   "outputs": [],
   "source": []
  }
 ],
 "metadata": {
  "hide_input": false,
  "kernelspec": {
   "display_name": "Python 3",
   "language": "python",
   "name": "python3"
  },
  "language_info": {
   "codemirror_mode": {
    "name": "ipython",
    "version": 3
   },
   "file_extension": ".py",
   "mimetype": "text/x-python",
   "name": "python",
   "nbconvert_exporter": "python",
   "pygments_lexer": "ipython3",
   "version": "3.6.3"
  },
  "nav_menu": {},
  "toc": {
   "navigate_menu": true,
   "number_sections": true,
   "sideBar": true,
   "threshold": 6,
   "toc_cell": false,
   "toc_section_display": "block",
   "toc_window_display": false
  },
  "varInspector": {
   "cols": {
    "lenName": 16,
    "lenType": 16,
    "lenVar": 40
   },
   "kernels_config": {
    "python": {
     "delete_cmd_postfix": "",
     "delete_cmd_prefix": "del ",
     "library": "var_list.py",
     "varRefreshCmd": "print(var_dic_list())"
    },
    "r": {
     "delete_cmd_postfix": ") ",
     "delete_cmd_prefix": "rm(",
     "library": "var_list.r",
     "varRefreshCmd": "cat(var_dic_list()) "
    }
   },
   "types_to_exclude": [
    "module",
    "function",
    "builtin_function_or_method",
    "instance",
    "_Feature"
   ],
   "window_display": false
  }
 },
 "nbformat": 4,
 "nbformat_minor": 2
}
